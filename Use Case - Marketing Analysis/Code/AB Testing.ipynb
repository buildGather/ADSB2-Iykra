{
 "cells": [
  {
   "cell_type": "markdown",
   "metadata": {},
   "source": [
    "# A/B Testing\n",
    "\n",
    "\n",
    "**A/B Testing** adalah model untuk menentukan apakah keputusan 1 lebih baik daripada keputusan 2, atau sebaliknya. Pada Kasus ini, dilakukan A/B testing terhadap sebuah website e-commerce. A/B Testing ini melihat apakah versi website yang baru dapat lebih meningkatkan converted rate dari user. Hasil dari A/B Testing tersebut telah disimpan dalam file `ab_testing.csv`. Kemudian dilakukan analisis untuk membantu perusahaan memahami apakah mereka harus mengimplementasikan strategi, mempertahankan versi website lama, atau mungkin menjalankan eksperimen lebih lama untuk membuat keputusan lainnya.\n",
    "\n",
    "### Studi Kasus:\n",
    "\n",
    "Pada data ini terdapat beberapa `segmentasi` (diambil dari version) yang dijadikan bahan penelitian, diantaranya adalah\n",
    "    1. A1\n",
    "    2. A2\n",
    "    3. B\n",
    "    4. C\n",
    "\n",
    "> Studi kasus ini mengambil nilai konversi dari **clicked** menjadi **liked** dan melihat hubungan antara versi website yang mereka gunakan, apakah terdapat perbedaan atau tidak? Apakah kesimpulan yang bisa ditarik dari data kita? Dan bagaimana mengambil keputusan terkait hasil tersebut nantinya?\n",
    "\n",
    "---"
   ]
  },
  {
   "cell_type": "markdown",
   "metadata": {},
   "source": [
    "### Import Modules"
   ]
  },
  {
   "cell_type": "code",
   "execution_count": 294,
   "metadata": {},
   "outputs": [],
   "source": [
    "import pandas as pd\n",
    "%matplotlib inline\n",
    "\n",
    "import warnings\n",
    "warnings.filterwarnings(\"ignore\")\n",
    "\n",
    "import numpy as np\n",
    "import matplotlib.pyplot as plt\n",
    "\n",
    "from statsmodels.stats.proportion import proportions_ztest\n",
    "from statsmodels.stats.proportion import proportions_chisquare\n",
    "\n",
    "import math\n",
    "import scipy.stats as stats\n",
    "\n",
    "import seaborn as sns\n",
    "sns.set(color_codes=True)\n",
    "\n",
    "#from datetime import datetime\n",
    "from datetime import timedelta\n",
    "import datetime\n",
    "import time\n",
    "import os"
   ]
  },
  {
   "cell_type": "markdown",
   "metadata": {},
   "source": [
    "---"
   ]
  },
  {
   "cell_type": "markdown",
   "metadata": {},
   "source": [
    "# Sample Size\n",
    "Dalam menentukan sample size, kita bisa *running* beberapa test terhadap model. Namun, untuk mempermudah perkiraan sample size yang cocok, kita bisa lihat atau akses pranala berikut ini [EvanMiller Calculation](https://www.evanmiller.org/ab-testing/sample-size.html). Dibawah ini terdapat perkiraan *sample size* yang tidak jauh berbeda dengan perhitungan pada EvanMiller Calculation."
   ]
  },
  {
   "cell_type": "markdown",
   "metadata": {},
   "source": [
    "### 1. Menentukan Variable Penelitian "
   ]
  },
  {
   "cell_type": "code",
   "execution_count": 295,
   "metadata": {},
   "outputs": [],
   "source": [
    "# Apakah kita ingin melakukan one sided atau two sided test? Pada model kali ini, kita menggunakan one sided test.\n",
    "one_sided = True \n",
    "\n",
    "# Penentuan sample size untuk data test dari A/B Testing kita\n",
    "baseline_prob = 0.08\n",
    "beta = 0.2\n",
    "alpha = 0.05\n",
    "eff = 0.015"
   ]
  },
  {
   "cell_type": "markdown",
   "metadata": {},
   "source": [
    "#### Berdasarkan penentuan variabel di atas, kita definisikan setiap variabel kita sebagai berikut,"
   ]
  },
  {
   "cell_type": "code",
   "execution_count": 296,
   "metadata": {},
   "outputs": [
    {
     "name": "stdout",
     "output_type": "stream",
     "text": [
      "Nilai Baseline Conversion (prob) =  8.0 %\n",
      "Tingkat Confidence Level =  95.0 %\n",
      "Alpha Z-score (zalp) =  1.64\n",
      "Beta Z-score (zbet) =  0.84\n",
      "Power =  80.0 %\n",
      "Nilai Effect Size (E) =  1.5 %\n"
     ]
    }
   ],
   "source": [
    "alpha_Zscore = stats.norm.ppf(1-alpha*(1-0.5*(1-one_sided)))\n",
    "beta_Zscore = stats.norm.ppf(1-beta)\n",
    "\n",
    "print('Nilai Baseline Conversion (prob) = ', baseline_prob*100, '%')\n",
    "print('Tingkat Confidence Level = ', (1-alpha)*100, '%')\n",
    "print('Alpha Z-score (zalp) = ', round(alpha_Zscore,2))\n",
    "print('Beta Z-score (zbet) = ', round(beta_Zscore,2))\n",
    "print('Power = ', (1-beta)*100, '%')\n",
    "print('Nilai Effect Size (E) = ', eff*100, '%')"
   ]
  },
  {
   "cell_type": "markdown",
   "metadata": {},
   "source": [
    "#### Per Sample Traffic"
   ]
  },
  {
   "cell_type": "code",
   "execution_count": 297,
   "metadata": {},
   "outputs": [
    {
     "name": "stdout",
     "output_type": "stream",
     "text": [
      "Jumlah ukuran untuk sample size (per variation)nya adalah 4045.0\n"
     ]
    }
   ],
   "source": [
    "def sample_size(E, zalp, zbet, prob):\n",
    "    variance = prob*(1-prob)  # largest when pr = 0.5, use when you don't have any baseline estimate\n",
    "    z = (zalp+zbet)**2\n",
    "    top = 2*variance*z\n",
    "    bottom = E**2\n",
    "    n = top/bottom\n",
    "    return n\n",
    "\n",
    "n = sample_size(eff, alpha_Zscore, beta_Zscore, baseline_prob)\n",
    "print('Jumlah ukuran untuk sample size (per variation)nya adalah',round(n,0))"
   ]
  },
  {
   "cell_type": "markdown",
   "metadata": {},
   "source": [
    "## Menentukan Minimum Detectable Effect\n",
    "- Diketahui nilai alpha, beta, dan sample size dari model kita, apakah kita dapat mengetahui terjadi perbedaan atau tidak dari sample test kita dalam ukuran (size) sebesar itu (detectable effect)?\n",
    "- Untuk memastikan effect size model kita, dapat dilakukan perhitungan effect terhadap sample size (n)"
   ]
  },
  {
   "cell_type": "code",
   "execution_count": 298,
   "metadata": {},
   "outputs": [
    {
     "data": {
      "text/plain": [
       "0.015"
      ]
     },
     "execution_count": 298,
     "metadata": {},
     "output_type": "execute_result"
    }
   ],
   "source": [
    "# Mendefinisikan rumus yang akan menggunakan sample size dan mengabaikan effect size.\n",
    "# Kalau model sebelumnya (def sample_size) menggunakan \"eff\", kali ini tidak ada, karena kita ingin mencari effect size yg tepat\n",
    "\n",
    "def measurable_eff(n, zalp, zbet, prob):\n",
    "    variance = prob*(1-prob)  # Ketika tidak ada baseline, gunakan prob = 0.5\n",
    "    z = (zalp+zbet)**2\n",
    "    top = 2*variance*z\n",
    "    bottom = n\n",
    "    E = math.sqrt(top/n)\n",
    "    return E\n",
    "\n",
    "# What is the current minimal detectable effect size? (Seharusnya sama dengan effect size yang didefinisikan di atas, yaitu 1.5%)\n",
    "measurable_eff(n, alpha_Zscore, beta_Zscore, baseline_prob)"
   ]
  },
  {
   "cell_type": "markdown",
   "metadata": {},
   "source": [
    "---"
   ]
  },
  {
   "cell_type": "markdown",
   "metadata": {},
   "source": [
    "## 3. Import Dataset "
   ]
  },
  {
   "cell_type": "code",
   "execution_count": 299,
   "metadata": {},
   "outputs": [
    {
     "data": {
      "text/html": [
       "<div>\n",
       "<style scoped>\n",
       "    .dataframe tbody tr th:only-of-type {\n",
       "        vertical-align: middle;\n",
       "    }\n",
       "\n",
       "    .dataframe tbody tr th {\n",
       "        vertical-align: top;\n",
       "    }\n",
       "\n",
       "    .dataframe thead th {\n",
       "        text-align: right;\n",
       "    }\n",
       "</style>\n",
       "<table border=\"1\" class=\"dataframe\">\n",
       "  <thead>\n",
       "    <tr style=\"text-align: right;\">\n",
       "      <th></th>\n",
       "      <th>user_id</th>\n",
       "      <th>date_joined</th>\n",
       "      <th>date_visit</th>\n",
       "      <th>version</th>\n",
       "      <th>type</th>\n",
       "      <th>category</th>\n",
       "      <th>visits</th>\n",
       "      <th>clicked</th>\n",
       "      <th>clicks</th>\n",
       "      <th>liked</th>\n",
       "      <th>likes</th>\n",
       "    </tr>\n",
       "  </thead>\n",
       "  <tbody>\n",
       "    <tr>\n",
       "      <td>0</td>\n",
       "      <td>31098458</td>\n",
       "      <td>2018-04-23</td>\n",
       "      <td>2018-04-23</td>\n",
       "      <td>B</td>\n",
       "      <td>0</td>\n",
       "      <td>E</td>\n",
       "      <td>3</td>\n",
       "      <td>0</td>\n",
       "      <td>0</td>\n",
       "      <td>0</td>\n",
       "      <td>0</td>\n",
       "    </tr>\n",
       "    <tr>\n",
       "      <td>313</td>\n",
       "      <td>31098587</td>\n",
       "      <td>2018-04-27</td>\n",
       "      <td>2018-04-23</td>\n",
       "      <td>C</td>\n",
       "      <td>1</td>\n",
       "      <td>M</td>\n",
       "      <td>1</td>\n",
       "      <td>1</td>\n",
       "      <td>1</td>\n",
       "      <td>1</td>\n",
       "      <td>8</td>\n",
       "    </tr>\n",
       "    <tr>\n",
       "      <td>312</td>\n",
       "      <td>31098584</td>\n",
       "      <td>2018-04-27</td>\n",
       "      <td>2018-04-23</td>\n",
       "      <td>A1</td>\n",
       "      <td>1</td>\n",
       "      <td>NaN</td>\n",
       "      <td>1</td>\n",
       "      <td>1</td>\n",
       "      <td>1</td>\n",
       "      <td>0</td>\n",
       "      <td>0</td>\n",
       "    </tr>\n",
       "    <tr>\n",
       "      <td>311</td>\n",
       "      <td>31098582</td>\n",
       "      <td>2018-04-27</td>\n",
       "      <td>2018-04-23</td>\n",
       "      <td>B</td>\n",
       "      <td>1</td>\n",
       "      <td>E</td>\n",
       "      <td>1</td>\n",
       "      <td>1</td>\n",
       "      <td>1</td>\n",
       "      <td>1</td>\n",
       "      <td>7</td>\n",
       "    </tr>\n",
       "    <tr>\n",
       "      <td>310</td>\n",
       "      <td>31098581</td>\n",
       "      <td>2018-04-27</td>\n",
       "      <td>2018-04-23</td>\n",
       "      <td>A2</td>\n",
       "      <td>0</td>\n",
       "      <td>NaN</td>\n",
       "      <td>1</td>\n",
       "      <td>1</td>\n",
       "      <td>2</td>\n",
       "      <td>1</td>\n",
       "      <td>5</td>\n",
       "    </tr>\n",
       "  </tbody>\n",
       "</table>\n",
       "</div>"
      ],
      "text/plain": [
       "      user_id date_joined date_visit version  type category  visits  clicked  \\\n",
       "0    31098458  2018-04-23 2018-04-23       B     0        E       3        0   \n",
       "313  31098587  2018-04-27 2018-04-23       C     1        M       1        1   \n",
       "312  31098584  2018-04-27 2018-04-23      A1     1      NaN       1        1   \n",
       "311  31098582  2018-04-27 2018-04-23       B     1        E       1        1   \n",
       "310  31098581  2018-04-27 2018-04-23      A2     0      NaN       1        1   \n",
       "\n",
       "     clicks  liked  likes  \n",
       "0         0      0      0  \n",
       "313       1      1      8  \n",
       "312       1      0      0  \n",
       "311       1      1      7  \n",
       "310       2      1      5  "
      ]
     },
     "execution_count": 299,
     "metadata": {},
     "output_type": "execute_result"
    }
   ],
   "source": [
    "file_name = 'ABData.csv'\n",
    "date_sort = 'date_visit' # mengurutkan date_visit\n",
    "\n",
    "# Update the column where the date is stored in the converters section below, if no such column, remove the conversion\n",
    "data = pd.read_csv('/Users/andimu064127/Use Case - Marketing Analysis/Dataset/' + file_name,\n",
    "                  converters= {date_sort: pd.to_datetime} )\n",
    "d2 = data.copy()\n",
    "d2 = d2.sort_values(date_sort, ascending = True)\n",
    "\n",
    "# Variabel yang diambil untuk perhitungan conversion rate.\n",
    "traffic_label = 'clicked'\n",
    "conv_label = 'liked'\n",
    "\n",
    "# Grouping column names\n",
    "user_label = 'user_id'\n",
    "date_label = 'date_visit'\n",
    "segment_label = 'version'\n",
    "\n",
    "\n",
    "d2.head()"
   ]
  },
  {
   "cell_type": "code",
   "execution_count": 300,
   "metadata": {},
   "outputs": [
    {
     "data": {
      "text/plain": [
       "['B', 'C', 'A1', 'A2']"
      ]
     },
     "execution_count": 300,
     "metadata": {},
     "output_type": "execute_result"
    }
   ],
   "source": [
    "# List of names of unique names of the segments\n",
    "segment_list = list(d2[segment_label].unique())\n",
    "segment_list"
   ]
  },
  {
   "cell_type": "markdown",
   "metadata": {},
   "source": [
    "#### Segment Summary"
   ]
  },
  {
   "cell_type": "code",
   "execution_count": 301,
   "metadata": {},
   "outputs": [
    {
     "name": "stdout",
     "output_type": "stream",
     "text": [
      "Kumpulan Segmentasi:  ['B', 'C', 'A1', 'A2']\n",
      "Jumlah   Segmentasi:  4\n"
     ]
    }
   ],
   "source": [
    "# Jumlah variasi segmentasi\n",
    "variations = len(segment_list)\n",
    "\n",
    "# Verifikasi segmen penelitian kita\n",
    "print('Kumpulan Segmentasi: ',segment_list)\n",
    "print('Jumlah   Segmentasi: ', variations)"
   ]
  },
  {
   "cell_type": "markdown",
   "metadata": {},
   "source": [
    "## 4. Data Analysis"
   ]
  },
  {
   "cell_type": "markdown",
   "metadata": {},
   "source": [
    "### 4.1 Penggunaan Harian User"
   ]
  },
  {
   "cell_type": "code",
   "execution_count": 302,
   "metadata": {},
   "outputs": [
    {
     "data": {
      "image/png": "[encoded data removed]",
      "text/plain": [
       "<Figure size 936x432 with 1 Axes>"
      ]
     },
     "metadata": {},
     "output_type": "display_data"
    }
   ],
   "source": [
    "# Agregasi data terhadap hari (date) pada dataset\n",
    "daily_users = pd.DataFrame(d2.groupby(date_label)[user_label].nunique()).reset_index()\n",
    "daily_traffic = pd.DataFrame(d2.groupby(date_label)[traffic_label].sum()).reset_index()\n",
    "daily_conversions = pd.DataFrame(d2.groupby(date_label)[conversion_label].sum()).reset_index()\n",
    "\n",
    "\n",
    "\n",
    "plt.subplots(figsize=(13, 6))\n",
    "plt.plot(pd.to_datetime(daily_users[date_label]), daily_users[user_label], label = 'pengguna')\n",
    "plt.plot(pd.to_datetime(daily_traffic[date_label]), daily_traffic[traffic_label], label = ('traffic: ' + traffic_label))\n",
    "plt.plot(pd.to_datetime(daily_conversions[date_label]), daily_conversions[conversion_label], label = ('conversion: ' + conversion_label))\n",
    "\n",
    "\n",
    "plt.xlabel('Date', fontsize=15)\n",
    "plt.xticks(fontsize=15, rotation=30)\n",
    "plt.yticks(fontsize=15)\n",
    "plt.title('Daily: Pengguna, Traffic & Conversions', fontsize=14)\n",
    "plt.legend(fontsize=15)\n",
    "plt.show()"
   ]
  },
  {
   "cell_type": "markdown",
   "metadata": {},
   "source": [
    "### 4.2 Overall Conversion Rate"
   ]
  },
  {
   "cell_type": "code",
   "execution_count": 303,
   "metadata": {},
   "outputs": [
    {
     "data": {
      "text/plain": [
       "40.43"
      ]
     },
     "execution_count": 303,
     "metadata": {},
     "output_type": "execute_result"
    }
   ],
   "source": [
    "round((daily_conversions[conversion_label]/daily_traffic[traffic_label]).mean()*100,2)"
   ]
  },
  {
   "cell_type": "markdown",
   "metadata": {},
   "source": [
    "### 4.3 Average Overall Traffic per User"
   ]
  },
  {
   "cell_type": "code",
   "execution_count": 304,
   "metadata": {},
   "outputs": [
    {
     "data": {
      "text/plain": [
       "0.961"
      ]
     },
     "execution_count": 304,
     "metadata": {},
     "output_type": "execute_result"
    }
   ],
   "source": [
    "round((daily_traffic[traffic_label]/daily_users[user_label]).mean(),3)"
   ]
  },
  {
   "cell_type": "markdown",
   "metadata": {},
   "source": [
    "### 4.4 Average Overall Conversions per User"
   ]
  },
  {
   "cell_type": "code",
   "execution_count": 305,
   "metadata": {},
   "outputs": [
    {
     "data": {
      "text/plain": [
       "0.388"
      ]
     },
     "execution_count": 305,
     "metadata": {},
     "output_type": "execute_result"
    }
   ],
   "source": [
    "round((daily_conversions[conversion_label]/daily_users[user_label]).mean(),3)"
   ]
  },
  {
   "cell_type": "markdown",
   "metadata": {},
   "source": [
    "### 4.5 Daily Segment Volatility Chart"
   ]
  },
  {
   "cell_type": "code",
   "execution_count": 306,
   "metadata": {},
   "outputs": [],
   "source": [
    "color_hex_list = ['#88CCEE', '#CC6677', '#DDCC77', '#117733', '#332288', '#E58606',  '#999933', '#882255', '#661100', \n",
    " '#5D69B1', '#52BCA3', '#99C945', '#CC61B0', '#24796C', '#DAA51B', '#2F8AC4', '#764E9F', '#ED645A']"
   ]
  },
  {
   "cell_type": "code",
   "execution_count": 307,
   "metadata": {},
   "outputs": [
    {
     "data": {
      "image/png": "[encoded data removed]",
      "text/plain": [
       "<Figure size 936x432 with 1 Axes>"
      ]
     },
     "metadata": {},
     "output_type": "display_data"
    }
   ],
   "source": [
    "# Group data by day\n",
    "daily_segment_traffic = pd.DataFrame(d2.groupby([date_label, segment_label])[traffic_label].sum()).reset_index()\n",
    "daily_segment_conversions = pd.DataFrame(d2.groupby([date_label, segment_label])[conversion_label].sum()).reset_index()\n",
    "\n",
    "daily_segment_conv_rate = pd.merge(daily_segment_traffic, daily_segment_conversions, on = [date_label, segment_label], how = 'left')\n",
    "daily_segment_conv_rate['conversion_rate'] = 100*daily_segment_conv_rate[conversion_label]/daily_segment_conv_rate[traffic_label] \n",
    "\n",
    "\n",
    "# Plot Figures\n",
    "plt.subplots(figsize=(13, 6))\n",
    "\n",
    "for i in range(0, variations):\n",
    "    df = daily_segment_conv_rate[daily_segment_conv_rate[segment_label] == segment_list[i] ]\n",
    "    plt.plot(pd.to_datetime(df[date_label]), df['conversion_rate'], label = segment_list[i], color= color_hex_list[i])\n",
    "\n",
    "# Chart Labels and Font Size\n",
    "plt.xlabel('Date', fontsize=15)\n",
    "plt.ylabel('% Conversion', fontsize=15)\n",
    "\n",
    "plt.xticks(fontsize=15, rotation=30)\n",
    "plt.yticks(fontsize=15)\n",
    "chart_title = 'Daily % Conversion per Segment ({}/{})'.format(conversion_label, traffic_label)\n",
    "plt.title(chart_title, fontsize=18)\n",
    "plt.legend(fontsize=15)\n",
    "plt.show()"
   ]
  },
  {
   "cell_type": "markdown",
   "metadata": {},
   "source": [
    "### 4.6 Create Simplified Table"
   ]
  },
  {
   "cell_type": "code",
   "execution_count": 308,
   "metadata": {},
   "outputs": [
    {
     "data": {
      "text/html": [
       "<div>\n",
       "<style scoped>\n",
       "    .dataframe tbody tr th:only-of-type {\n",
       "        vertical-align: middle;\n",
       "    }\n",
       "\n",
       "    .dataframe tbody tr th {\n",
       "        vertical-align: top;\n",
       "    }\n",
       "\n",
       "    .dataframe thead th {\n",
       "        text-align: right;\n",
       "    }\n",
       "</style>\n",
       "<table border=\"1\" class=\"dataframe\">\n",
       "  <thead>\n",
       "    <tr style=\"text-align: right;\">\n",
       "      <th></th>\n",
       "      <th>converted</th>\n",
       "      <th>traffic</th>\n",
       "    </tr>\n",
       "  </thead>\n",
       "  <tbody>\n",
       "    <tr>\n",
       "      <td>B</td>\n",
       "      <td>48</td>\n",
       "      <td>92</td>\n",
       "    </tr>\n",
       "    <tr>\n",
       "      <td>C</td>\n",
       "      <td>37</td>\n",
       "      <td>80</td>\n",
       "    </tr>\n",
       "    <tr>\n",
       "      <td>A1</td>\n",
       "      <td>42</td>\n",
       "      <td>86</td>\n",
       "    </tr>\n",
       "    <tr>\n",
       "      <td>A2</td>\n",
       "      <td>37</td>\n",
       "      <td>88</td>\n",
       "    </tr>\n",
       "  </tbody>\n",
       "</table>\n",
       "</div>"
      ],
      "text/plain": [
       "    converted  traffic\n",
       "B          48       92\n",
       "C          37       80\n",
       "A1         42       86\n",
       "A2         37       88"
      ]
     },
     "execution_count": 308,
     "metadata": {},
     "output_type": "execute_result"
    }
   ],
   "source": [
    "# Create a loop to aggregate the traffic and conversion for each segment.\n",
    "\n",
    "# Specify the 'traffic' column and the 'conversion' column \n",
    "aggregation_column = [traffic_label, conversion_label]\n",
    "\n",
    "# Create empty lists to populate in the loop below\n",
    "traffic = []\n",
    "conversions = [] \n",
    "\n",
    "# This table will the underlying table used in the subsequent sections to analyze the test results.\n",
    "for i in range(variations):\n",
    "    v, c = d2[d2[segment_label] == segment_list[i] ][aggregation_column[:2]].sum()\n",
    "\n",
    "    traffic.append(v)\n",
    "    conversions.append(c)\n",
    "    \n",
    "    \n",
    "# Create a Simple Data Frame for Proportions (from the above lists)   \n",
    "dfp_simple = pd.DataFrame({\n",
    "    \"converted\": conversions,\n",
    "    \"traffic\": traffic\n",
    "}, index = segment_list)\n",
    "\n",
    "dfp_simple"
   ]
  },
  {
   "cell_type": "markdown",
   "metadata": {},
   "source": [
    "### 4.7 Menambahkan Index dan/atau Kolom Penelitan"
   ]
  },
  {
   "cell_type": "code",
   "execution_count": 309,
   "metadata": {
    "scrolled": true
   },
   "outputs": [
    {
     "data": {
      "text/html": [
       "<div>\n",
       "<style scoped>\n",
       "    .dataframe tbody tr th:only-of-type {\n",
       "        vertical-align: middle;\n",
       "    }\n",
       "\n",
       "    .dataframe tbody tr th {\n",
       "        vertical-align: top;\n",
       "    }\n",
       "\n",
       "    .dataframe thead th {\n",
       "        text-align: right;\n",
       "    }\n",
       "</style>\n",
       "<table border=\"1\" class=\"dataframe\">\n",
       "  <thead>\n",
       "    <tr style=\"text-align: right;\">\n",
       "      <th></th>\n",
       "      <th>converted</th>\n",
       "      <th>traffic</th>\n",
       "      <th>not_converted</th>\n",
       "      <th>converted_proportion</th>\n",
       "      <th>standard_error</th>\n",
       "      <th>population_percentage</th>\n",
       "    </tr>\n",
       "  </thead>\n",
       "  <tbody>\n",
       "    <tr>\n",
       "      <td>A1</td>\n",
       "      <td>42</td>\n",
       "      <td>86</td>\n",
       "      <td>44</td>\n",
       "      <td>0.488372</td>\n",
       "      <td>0.053902</td>\n",
       "      <td>0.248555</td>\n",
       "    </tr>\n",
       "    <tr>\n",
       "      <td>A2</td>\n",
       "      <td>37</td>\n",
       "      <td>88</td>\n",
       "      <td>51</td>\n",
       "      <td>0.420455</td>\n",
       "      <td>0.052621</td>\n",
       "      <td>0.254335</td>\n",
       "    </tr>\n",
       "    <tr>\n",
       "      <td>B</td>\n",
       "      <td>48</td>\n",
       "      <td>92</td>\n",
       "      <td>44</td>\n",
       "      <td>0.521739</td>\n",
       "      <td>0.052079</td>\n",
       "      <td>0.265896</td>\n",
       "    </tr>\n",
       "    <tr>\n",
       "      <td>C</td>\n",
       "      <td>37</td>\n",
       "      <td>80</td>\n",
       "      <td>43</td>\n",
       "      <td>0.462500</td>\n",
       "      <td>0.055744</td>\n",
       "      <td>0.231214</td>\n",
       "    </tr>\n",
       "    <tr>\n",
       "      <td>Total</td>\n",
       "      <td>164</td>\n",
       "      <td>346</td>\n",
       "      <td>182</td>\n",
       "      <td>0.473988</td>\n",
       "      <td>0.026844</td>\n",
       "      <td>1.000000</td>\n",
       "    </tr>\n",
       "  </tbody>\n",
       "</table>\n",
       "</div>"
      ],
      "text/plain": [
       "       converted  traffic  not_converted  converted_proportion  \\\n",
       "A1            42       86             44              0.488372   \n",
       "A2            37       88             51              0.420455   \n",
       "B             48       92             44              0.521739   \n",
       "C             37       80             43              0.462500   \n",
       "Total        164      346            182              0.473988   \n",
       "\n",
       "       standard_error  population_percentage  \n",
       "A1           0.053902               0.248555  \n",
       "A2           0.052621               0.254335  \n",
       "B            0.052079               0.265896  \n",
       "C            0.055744               0.231214  \n",
       "Total        0.026844               1.000000  "
      ]
     },
     "execution_count": 309,
     "metadata": {},
     "output_type": "execute_result"
    }
   ],
   "source": [
    "dfp = dfp_simple.copy().sort_index()\n",
    "\n",
    "# Menjumlahkan keseluruhan kolom\n",
    "dfp.loc['Total'] = dfp.sum()\n",
    "\n",
    "# Yang tidak berubah (not conververted) adalah traffic dikurangi dengan converted\n",
    "dfp['not_converted'] = dfp['traffic'] - dfp['converted']\n",
    "\n",
    "# Proporsi dari konversi setiap segmennya\n",
    "proportion = dfp.converted/dfp.traffic\n",
    "dfp['converted_proportion'] = proportion\n",
    "\n",
    "# Standard Error\n",
    "dfp['standard_error'] = ((proportion * (1-proportion))/dfp.traffic)**(.5)\n",
    "\n",
    "# Persentasi traffic dari total user yang menggunakan website\n",
    "n = dfp.loc['Total']['traffic']\n",
    "dfp['population_percentage'] = dfp['traffic']/n\n",
    "\n",
    "dfp"
   ]
  },
  {
   "cell_type": "markdown",
   "metadata": {},
   "source": [
    "### 4.8 Plot the Conversion Rates"
   ]
  },
  {
   "cell_type": "code",
   "execution_count": 310,
   "metadata": {},
   "outputs": [
    {
     "data": {
      "image/png": "[encoded data removed]",
      "text/plain": [
       "<Figure size 936x432 with 1 Axes>"
      ]
     },
     "metadata": {},
     "output_type": "display_data"
    }
   ],
   "source": [
    "# Bar Plot Inputs\n",
    "labels = dfp.index[:-1].tolist()\n",
    "label_index = np.arange(len(labels))\n",
    "values = (round(dfp['converted_proportion'][:-1]*100,2)).tolist()\n",
    "half_ci = (round(dfp['standard_error'][:-1]*1.96*100,2)).tolist()\n",
    "\n",
    "# Membuat plot konversi rate dari setiap segmen dan sample standard errornya\n",
    "plt.subplots(figsize=(13, 6))\n",
    "plt.bar(label_index, values, yerr=half_ci, alpha=0.75,\n",
    "       color= color_hex_list[0:len(labels)],\n",
    "       error_kw=dict(ecolor='black', lw=2, capsize=5, capthick=2))\n",
    "plt.xlabel('Segment', fontsize=15)\n",
    "plt.ylabel('% Conversion', fontsize=15)\n",
    "plt.xticks(label_index, labels, fontsize=13, rotation=30)\n",
    "plt.yticks(fontsize=15)\n",
    "plt.title('Conversion Rate per Segment', fontsize=18)\n",
    "plt.show()"
   ]
  },
  {
   "cell_type": "markdown",
   "metadata": {},
   "source": [
    "---"
   ]
  },
  {
   "cell_type": "markdown",
   "metadata": {},
   "source": [
    "## 5. TEST EVALUATION"
   ]
  },
  {
   "cell_type": "markdown",
   "metadata": {},
   "source": [
    "## 2+ Sample Proportion\n",
    "*Type of test: Chi Square*"
   ]
  },
  {
   "cell_type": "markdown",
   "metadata": {},
   "source": [
    "**Hypotheses**\n",
    "- H0: Tidak ada hubungan atau asosiasi antara segmen(versi) dan konversi user.\n",
    "- H1: Terdapat hubungan atau asosiasi antara segmen(versi) dan konversi user.\n",
    "    - **`NAMUN`**, kita tidak tahu pasti segmen mana saja yang memiliki proporsi pas antara satu sama lain → inferensi atau estimasi perbedaan proporsi yang saling berpasangan (A1 ke A2, A1 ke B, A1 ke C, A2 ke B, dst). Untuk mengetahui ini semua kita bisa gunakan prosedur Marascuilo."
   ]
  },
  {
   "cell_type": "markdown",
   "metadata": {},
   "source": [
    "### Pertanyaan untuk A/B Testing Model: \n",
    "**`Is there a difference between any of the versions?`**"
   ]
  },
  {
   "cell_type": "markdown",
   "metadata": {},
   "source": [
    "### Observed Proportions (Proporsi Uji)"
   ]
  },
  {
   "cell_type": "code",
   "execution_count": 311,
   "metadata": {},
   "outputs": [
    {
     "data": {
      "text/html": [
       "<div>\n",
       "<style scoped>\n",
       "    .dataframe tbody tr th:only-of-type {\n",
       "        vertical-align: middle;\n",
       "    }\n",
       "\n",
       "    .dataframe tbody tr th {\n",
       "        vertical-align: top;\n",
       "    }\n",
       "\n",
       "    .dataframe thead th {\n",
       "        text-align: right;\n",
       "    }\n",
       "</style>\n",
       "<table border=\"1\" class=\"dataframe\">\n",
       "  <thead>\n",
       "    <tr style=\"text-align: right;\">\n",
       "      <th></th>\n",
       "      <th>A1</th>\n",
       "      <th>A2</th>\n",
       "      <th>B</th>\n",
       "      <th>C</th>\n",
       "      <th>Total</th>\n",
       "    </tr>\n",
       "  </thead>\n",
       "  <tbody>\n",
       "    <tr>\n",
       "      <td>converted</td>\n",
       "      <td>42</td>\n",
       "      <td>37</td>\n",
       "      <td>48</td>\n",
       "      <td>37</td>\n",
       "      <td>164</td>\n",
       "    </tr>\n",
       "    <tr>\n",
       "      <td>not_converted</td>\n",
       "      <td>44</td>\n",
       "      <td>51</td>\n",
       "      <td>44</td>\n",
       "      <td>43</td>\n",
       "      <td>182</td>\n",
       "    </tr>\n",
       "    <tr>\n",
       "      <td>traffic</td>\n",
       "      <td>86</td>\n",
       "      <td>88</td>\n",
       "      <td>92</td>\n",
       "      <td>80</td>\n",
       "      <td>346</td>\n",
       "    </tr>\n",
       "  </tbody>\n",
       "</table>\n",
       "</div>"
      ],
      "text/plain": [
       "               A1  A2   B   C  Total\n",
       "converted      42  37  48  37    164\n",
       "not_converted  44  51  44  43    182\n",
       "traffic        86  88  92  80    346"
      ]
     },
     "execution_count": 311,
     "metadata": {},
     "output_type": "execute_result"
    }
   ],
   "source": [
    "# DataFrame Proportion Transposed Observed = dfpTo\n",
    "dataObs = dfp[['converted', 'not_converted', 'traffic']].T\n",
    "dataObs"
   ]
  },
  {
   "cell_type": "markdown",
   "metadata": {},
   "source": [
    "### Expected Proportions (Proporsi Estimasi)"
   ]
  },
  {
   "cell_type": "code",
   "execution_count": 312,
   "metadata": {},
   "outputs": [
    {
     "data": {
      "text/html": [
       "<div>\n",
       "<style scoped>\n",
       "    .dataframe tbody tr th:only-of-type {\n",
       "        vertical-align: middle;\n",
       "    }\n",
       "\n",
       "    .dataframe tbody tr th {\n",
       "        vertical-align: top;\n",
       "    }\n",
       "\n",
       "    .dataframe thead th {\n",
       "        text-align: right;\n",
       "    }\n",
       "</style>\n",
       "<table border=\"1\" class=\"dataframe\">\n",
       "  <thead>\n",
       "    <tr style=\"text-align: right;\">\n",
       "      <th></th>\n",
       "      <th>A1</th>\n",
       "      <th>A2</th>\n",
       "      <th>B</th>\n",
       "      <th>C</th>\n",
       "      <th>Total</th>\n",
       "    </tr>\n",
       "  </thead>\n",
       "  <tbody>\n",
       "    <tr>\n",
       "      <td>converted</td>\n",
       "      <td>40.763006</td>\n",
       "      <td>41.710983</td>\n",
       "      <td>43.606936</td>\n",
       "      <td>37.919075</td>\n",
       "      <td>164</td>\n",
       "    </tr>\n",
       "    <tr>\n",
       "      <td>not_converted</td>\n",
       "      <td>45.236994</td>\n",
       "      <td>46.289017</td>\n",
       "      <td>48.393064</td>\n",
       "      <td>42.080925</td>\n",
       "      <td>182</td>\n",
       "    </tr>\n",
       "    <tr>\n",
       "      <td>traffic</td>\n",
       "      <td>86.000000</td>\n",
       "      <td>88.000000</td>\n",
       "      <td>92.000000</td>\n",
       "      <td>80.000000</td>\n",
       "      <td>346</td>\n",
       "    </tr>\n",
       "  </tbody>\n",
       "</table>\n",
       "</div>"
      ],
      "text/plain": [
       "                      A1         A2          B          C  Total\n",
       "converted      40.763006  41.710983  43.606936  37.919075    164\n",
       "not_converted  45.236994  46.289017  48.393064  42.080925    182\n",
       "traffic        86.000000  88.000000  92.000000  80.000000    346"
      ]
     },
     "execution_count": 312,
     "metadata": {},
     "output_type": "execute_result"
    }
   ],
   "source": [
    "# DataFrame Proportion Transposed Expected = dfpTe\n",
    "dataExpObs = dataObs.copy()\n",
    "\n",
    "# Replace with expected values\n",
    "for i in range(variations):\n",
    "    for j in range(0, 2):\n",
    "        dataExpObs.iloc[j,i] = (dataObs.loc['traffic'][i]*dataObs['Total'][j])/n\n",
    "\n",
    "dataExpObs"
   ]
  },
  {
   "cell_type": "markdown",
   "metadata": {},
   "source": [
    "### Calculate Chi Square and p-value"
   ]
  },
  {
   "cell_type": "code",
   "execution_count": 313,
   "metadata": {},
   "outputs": [
    {
     "name": "stdout",
     "output_type": "stream",
     "text": [
      "Nilai Chi Square =  1.9666036399234188\n"
     ]
    }
   ],
   "source": [
    "# Drop the last column AND drop the last row (the columns with the totals)\n",
    "o = dataObs.drop(dataObs.columns[-1], axis = 1)[:-1]\n",
    "e = dataExpObs.drop(dataExpObs.columns[-1], axis = 1)[:-1]\n",
    "\n",
    "ss = (o-e)**2/e\n",
    "ch2 = ss.values.sum()\n",
    "print('Nilai Chi Square = ',ch2)"
   ]
  },
  {
   "cell_type": "code",
   "execution_count": 314,
   "metadata": {},
   "outputs": [
    {
     "name": "stdout",
     "output_type": "stream",
     "text": [
      "Nilai p-value Chi Square =  0.5793670974852936\n"
     ]
    }
   ],
   "source": [
    "# P-value for a chi score with variations-1 degrees of freedom\n",
    "pvalue_chi = 1 - stats.chi2.cdf(ch2, variations-1)\n",
    "print('Nilai p-value Chi Square = ',pvalue_chi)"
   ]
  },
  {
   "cell_type": "markdown",
   "metadata": {},
   "source": [
    "#### Result Interpretation"
   ]
  },
  {
   "cell_type": "code",
   "execution_count": 315,
   "metadata": {},
   "outputs": [
    {
     "name": "stdout",
     "output_type": "stream",
     "text": [
      "Apakah nilai p-value 0.579 lebih kecil dari nilai alpha 0.05?\n",
      "\n",
      "Gagal menolak null-hypothesis (H0 diterima)\n"
     ]
    }
   ],
   "source": [
    "print('Apakah nilai p-value {p} lebih kecil dari nilai alpha {alpha}?\\n'.format(p=round(pvalue_chi,3), alpha=alpha))\n",
    "if (pvalue < alpha):\n",
    "    print('Berhasil menolak null-hypothesis (H0 ditolak)')\n",
    "else: \n",
    "    print('Gagal menolak null-hypothesis (H0 diterima)')"
   ]
  },
  {
   "cell_type": "markdown",
   "metadata": {},
   "source": [
    "**`Gagal Menolak H0`** artinya H0 diterima atau dapat diinterpretasikan bahwa terdapat hubungan atau asosiasi antara segmentasi(versi) dan konversi user. Namun, kita tidak tahu pasti segmentasi mana saja yang memiliki proporsi pas antara satu sama lain → inferensi atau estimasi perbedaan proporsi yang saling berpasangan (A1 ke A2, A1 ke B, A1 ke C, A2 ke B, dst). Untuk mengetahui ini semua kita bisa gunakan **Prosedur Marascuilo**."
   ]
  },
  {
   "cell_type": "markdown",
   "metadata": {},
   "source": [
    "#### Stats Model Formula"
   ]
  },
  {
   "cell_type": "code",
   "execution_count": 316,
   "metadata": {
    "scrolled": true
   },
   "outputs": [
    {
     "data": {
      "text/plain": [
       "(1.9666036399234188, 0.5793670974852936, (array([[48, 44],\n",
       "         [37, 43],\n",
       "         [42, 44],\n",
       "         [37, 51]], dtype=int64), array([[43.60693642, 48.39306358],\n",
       "         [37.91907514, 42.08092486],\n",
       "         [40.76300578, 45.23699422],\n",
       "         [41.71098266, 46.28901734]])))"
      ]
     },
     "execution_count": 316,
     "metadata": {},
     "output_type": "execute_result"
    }
   ],
   "source": [
    "proportions_chisquare(dfp_simple.converted, dfp_simple.traffic) "
   ]
  },
  {
   "cell_type": "markdown",
   "metadata": {},
   "source": [
    "### Prosedur Marascuilo\n",
    "Prosedur ini digunakan untuk melihat proporsi mana saja yang masuk kategori *statistically different* dari keseluruhan kombinasi segment yang ada (pairwise) (Reference: https://www.itl.nist.gov/div898/handbook/prc/section4/prc474.htm)\n",
    "\n",
    "Iterate through all the possible pairwise tests."
   ]
  },
  {
   "cell_type": "code",
   "execution_count": 317,
   "metadata": {},
   "outputs": [],
   "source": [
    "# Create lists to iterate through\n",
    "prp = list(dfp_simple['converted']/dfp_simple['traffic'])\n",
    "vis = list(dfp_simple['traffic'])\n",
    "seg = list(dfp_simple.index.values)\n",
    "\n",
    "# Calculate the chi square stat\n",
    "c2 = stats.chi2.cdf(ch2, variations-1)\n",
    "\n",
    "# Empty lists (to be populated in the for loop)\n",
    "diff = []\n",
    "critical_value = []\n",
    "segment1 = []\n",
    "segment2 = []\n",
    "proportion1 = []\n",
    "proportion2 = []\n",
    "segment1_size = []\n",
    "segment2_size = []\n",
    "smallest_measurable_effect_size = []"
   ]
  },
  {
   "cell_type": "code",
   "execution_count": 318,
   "metadata": {},
   "outputs": [],
   "source": [
    "# Pairwise comparisons (iterate through all combinations)\n",
    "for i in range(0,(variations)):\n",
    "    for j in range((i+1),variations):\n",
    "        segment1.append(seg[i])\n",
    "        segment2.append(seg[j])\n",
    "        \n",
    "        proportion1.append(prp[i])\n",
    "        proportion2.append(prp[j])\n",
    "        \n",
    "        segment1_size.append(vis[i])\n",
    "        segment2_size.append(vis[j])\n",
    "        smaller_sample_size = min(vis[i], vis[j])\n",
    "        # Use the maximum of the two proportions, more conservative, to calculate minimal detectable effect size in the next step\n",
    "        #max_proportion = max(prp[i], prp[j])\n",
    "        # Use the proportion that is closest to 50%, more conservative, to calculate minimal detectable effect size in the next step\n",
    "        max_proportion = abs(min((1-prp[i]),(1-prp[j]))-1)\n",
    "        es = measurable_effect_size(smaller_sample_size, alpha_Zscore, beta_Zscore, max_proportion)\n",
    "        smallest_measurable_effect_size.append(es)\n",
    "\n",
    "        d = prp[i]-prp[j]\n",
    "        diff.append(d)\n",
    "    \n",
    "        cr = math.sqrt(c2)*math.sqrt(prp[i]*(1-prp[i])/vis[i] + prp[j]*(1-prp[j])/vis[j])\n",
    "        critical_value.append(cr)\n"
   ]
  },
  {
   "cell_type": "code",
   "execution_count": 319,
   "metadata": {},
   "outputs": [],
   "source": [
    "# Create a new dataframe for the Marascuilo Procedure Calculations\n",
    "dfm = []\n",
    "dfm = pd.DataFrame({\n",
    "    \"segment1\" : segment1,\n",
    "    \"segment2\" : segment2,\n",
    "    \"segment1_size\": segment1_size,\n",
    "    \"segment2_size\": segment2_size,\n",
    "    \"proportion1\": proportion1,\n",
    "    \"proportion2\": proportion2,\n",
    "    \"smallest_measurable_effect_size\": smallest_measurable_effect_size,\n",
    "    \"diff\": diff,\n",
    "    \"critical_value\": critical_value\n",
    "})"
   ]
  },
  {
   "cell_type": "code",
   "execution_count": 320,
   "metadata": {},
   "outputs": [
    {
     "data": {
      "text/html": [
       "<div>\n",
       "<style scoped>\n",
       "    .dataframe tbody tr th:only-of-type {\n",
       "        vertical-align: middle;\n",
       "    }\n",
       "\n",
       "    .dataframe tbody tr th {\n",
       "        vertical-align: top;\n",
       "    }\n",
       "\n",
       "    .dataframe thead th {\n",
       "        text-align: right;\n",
       "    }\n",
       "</style>\n",
       "<table border=\"1\" class=\"dataframe\">\n",
       "  <thead>\n",
       "    <tr style=\"text-align: right;\">\n",
       "      <th></th>\n",
       "      <th>segment1</th>\n",
       "      <th>proportion1</th>\n",
       "      <th>segment2</th>\n",
       "      <th>proportion2</th>\n",
       "      <th>diff</th>\n",
       "      <th>smallest_measurable_effect_size</th>\n",
       "      <th>critical_value</th>\n",
       "      <th>significant</th>\n",
       "    </tr>\n",
       "  </thead>\n",
       "  <tbody>\n",
       "    <tr>\n",
       "      <td>2</td>\n",
       "      <td>B</td>\n",
       "      <td>0.521739</td>\n",
       "      <td>A2</td>\n",
       "      <td>0.420455</td>\n",
       "      <td>0.101285</td>\n",
       "      <td>0.187248</td>\n",
       "      <td>0.048017</td>\n",
       "      <td>True</td>\n",
       "    </tr>\n",
       "    <tr>\n",
       "      <td>5</td>\n",
       "      <td>A1</td>\n",
       "      <td>0.488372</td>\n",
       "      <td>A2</td>\n",
       "      <td>0.420455</td>\n",
       "      <td>0.067918</td>\n",
       "      <td>0.189541</td>\n",
       "      <td>0.048855</td>\n",
       "      <td>True</td>\n",
       "    </tr>\n",
       "    <tr>\n",
       "      <td>0</td>\n",
       "      <td>B</td>\n",
       "      <td>0.521739</td>\n",
       "      <td>C</td>\n",
       "      <td>0.462500</td>\n",
       "      <td>0.059239</td>\n",
       "      <td>0.196387</td>\n",
       "      <td>0.049477</td>\n",
       "      <td>True</td>\n",
       "    </tr>\n",
       "    <tr>\n",
       "      <td>4</td>\n",
       "      <td>C</td>\n",
       "      <td>0.462500</td>\n",
       "      <td>A2</td>\n",
       "      <td>0.420455</td>\n",
       "      <td>0.042045</td>\n",
       "      <td>0.196019</td>\n",
       "      <td>0.049717</td>\n",
       "      <td>False</td>\n",
       "    </tr>\n",
       "    <tr>\n",
       "      <td>1</td>\n",
       "      <td>B</td>\n",
       "      <td>0.521739</td>\n",
       "      <td>A1</td>\n",
       "      <td>0.488372</td>\n",
       "      <td>0.033367</td>\n",
       "      <td>0.189413</td>\n",
       "      <td>0.048610</td>\n",
       "      <td>False</td>\n",
       "    </tr>\n",
       "    <tr>\n",
       "      <td>3</td>\n",
       "      <td>C</td>\n",
       "      <td>0.462500</td>\n",
       "      <td>A1</td>\n",
       "      <td>0.488372</td>\n",
       "      <td>-0.025872</td>\n",
       "      <td>0.196520</td>\n",
       "      <td>0.050291</td>\n",
       "      <td>False</td>\n",
       "    </tr>\n",
       "  </tbody>\n",
       "</table>\n",
       "</div>"
      ],
      "text/plain": [
       "  segment1  proportion1 segment2  proportion2      diff  \\\n",
       "2        B     0.521739       A2     0.420455  0.101285   \n",
       "5       A1     0.488372       A2     0.420455  0.067918   \n",
       "0        B     0.521739        C     0.462500  0.059239   \n",
       "4        C     0.462500       A2     0.420455  0.042045   \n",
       "1        B     0.521739       A1     0.488372  0.033367   \n",
       "3        C     0.462500       A1     0.488372 -0.025872   \n",
       "\n",
       "   smallest_measurable_effect_size  critical_value  significant  \n",
       "2                         0.187248        0.048017         True  \n",
       "5                         0.189541        0.048855         True  \n",
       "0                         0.196387        0.049477         True  \n",
       "4                         0.196019        0.049717        False  \n",
       "1                         0.189413        0.048610        False  \n",
       "3                         0.196520        0.050291        False  "
      ]
     },
     "execution_count": 320,
     "metadata": {},
     "output_type": "execute_result"
    }
   ],
   "source": [
    "dfm['significant'] = (abs(dfm['diff']) > dfm['critical_value'])\n",
    " \n",
    "column_order = ['segment1', 'proportion1', 'segment2', 'proportion2', 'diff', 'smallest_measurable_effect_size',\n",
    "                'critical_value', 'significant']\n",
    "\n",
    "# Urut berdasarkan nilai diff terbesar dan signifikan value untuk improvement.\n",
    "dfm[column_order].sort_values(['diff', 'significant'], ascending = [False, True])"
   ]
  },
  {
   "cell_type": "markdown",
   "metadata": {},
   "source": [
    "## Interpretasi Akhir"
   ]
  },
  {
   "cell_type": "markdown",
   "metadata": {},
   "source": [
    "**Interpretasi Akhir:** Hanya sampel yang memiliki nilai `significant` == `True` yang dapat kita katakan sebagai segmentasi yang memiliki signifikansi statistik satu sama lain. Segmentasi ini lah yang bisa jadi pertimbangan versi mana yang bisa kita fokuskan untuk dikembangkan, yaitu B → A2, A1 → A2, B → C\n",
    "\n",
    "Namun, bagaimana kita menentukan versi (segmentasi) mana yang benar-benar berpengaruh? Kita dapat menjawabnya dengan tabel di bawah ini."
   ]
  },
  {
   "cell_type": "markdown",
   "metadata": {},
   "source": [
    "### Pasangan Segmentasi Mana Yang Saling Signifikan?"
   ]
  },
  {
   "cell_type": "code",
   "execution_count": 321,
   "metadata": {},
   "outputs": [
    {
     "data": {
      "text/html": [
       "<div>\n",
       "<style scoped>\n",
       "    .dataframe tbody tr th:only-of-type {\n",
       "        vertical-align: middle;\n",
       "    }\n",
       "\n",
       "    .dataframe tbody tr th {\n",
       "        vertical-align: top;\n",
       "    }\n",
       "\n",
       "    .dataframe thead th {\n",
       "        text-align: right;\n",
       "    }\n",
       "</style>\n",
       "<table border=\"1\" class=\"dataframe\">\n",
       "  <thead>\n",
       "    <tr style=\"text-align: right;\">\n",
       "      <th></th>\n",
       "      <th>segment1</th>\n",
       "      <th>segment2</th>\n",
       "    </tr>\n",
       "  </thead>\n",
       "  <tbody>\n",
       "    <tr>\n",
       "      <td>0</td>\n",
       "      <td>B</td>\n",
       "      <td>C</td>\n",
       "    </tr>\n",
       "    <tr>\n",
       "      <td>2</td>\n",
       "      <td>B</td>\n",
       "      <td>A2</td>\n",
       "    </tr>\n",
       "    <tr>\n",
       "      <td>5</td>\n",
       "      <td>A1</td>\n",
       "      <td>A2</td>\n",
       "    </tr>\n",
       "  </tbody>\n",
       "</table>\n",
       "</div>"
      ],
      "text/plain": [
       "  segment1 segment2\n",
       "0        B        C\n",
       "2        B       A2\n",
       "5       A1       A2"
      ]
     },
     "execution_count": 321,
     "metadata": {},
     "output_type": "execute_result"
    }
   ],
   "source": [
    "dfm[dfm['significant'] == True][['segment1', 'segment2']]"
   ]
  },
  {
   "cell_type": "markdown",
   "metadata": {},
   "source": [
    "---"
   ]
  },
  {
   "cell_type": "code",
   "execution_count": 322,
   "metadata": {},
   "outputs": [
    {
     "name": "stdout",
     "output_type": "stream",
     "text": [
      "Apakah nilai p-value 0.579 lebih kecil dari nilai alpha 0.05?\n",
      "\n",
      "Gagal menolak null-hypothesis (H0 diterima)\n"
     ]
    }
   ],
   "source": [
    "print('Apakah nilai p-value {p} lebih kecil dari nilai alpha {alpha}?\\n'.format(p=round(pvalue_chi,3), alpha=alpha))\n",
    "if (pvalue < alpha):\n",
    "    print('Berhasil menolak null-hypothesis (H0 ditolak)')\n",
    "else: \n",
    "    print('Gagal menolak null-hypothesis (H0 diterima)')"
   ]
  },
  {
   "cell_type": "markdown",
   "metadata": {},
   "source": [
    "**`Karena H0 gagal ditolak`**, maka terdapat artinya H0 diterima atau dapat diinterpretasikan bahwa terdapat hubungan atau asosiasi antara segmentasi(versi) dan konversi user. Pada tabel segmentasi di atas, kita dapat katakan beberapa keputusan yang bisa diambil, diantaranya adalah \n",
    "\n",
    "    1. Kita bisa fokus untuk mengembangkan segmentasi atau versi B, karena secara skor critical value dan measureable effect score, versi B memiliki signifikansi yang cukup kuat terhadap mayoritas user, yaitu pada versi A2 dan C.\n",
    "    2. Kita bisa menggunakan fungsi atau data yang ada di versi A1 untuk digunakan sebagai pembanding terhadap pengembangan versi B, karena versi A1 cukup signifikan terhadap user versi A2 dimana versi B signifikan kuat terhadap user versi A2. "
   ]
  }
 ],
 "metadata": {
  "kernelspec": {
   "display_name": "Python 3",
   "language": "python",
   "name": "python3"
  },
  "language_info": {
   "codemirror_mode": {
    "name": "ipython",
    "version": 3
   },
   "file_extension": ".py",
   "mimetype": "text/x-python",
   "name": "python",
   "nbconvert_exporter": "python",
   "pygments_lexer": "ipython3",
   "version": "3.6.7"
  }
 },
 "nbformat": 4,
 "nbformat_minor": 2
}
