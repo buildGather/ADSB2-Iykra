{
 "cells": [
  {
   "cell_type": "code",
   "execution_count": 7,
   "metadata": {},
   "outputs": [
    {
     "name": "stdout",
     "output_type": "stream",
     "text": [
      "Collecting apyori\n",
      "  Downloading https://files.pythonhosted.org/packages/25/fd/0561e2dd29aeed544bad2d1991636e38700cdaef9530490b863741f35295/apyori-1.1.1.tar.gz\n",
      "Building wheels for collected packages: apyori\n",
      "  Building wheel for apyori (setup.py): started\n",
      "  Building wheel for apyori (setup.py): finished with status 'done'\n",
      "  Created wheel for apyori: filename=apyori-1.1.1-cp36-none-any.whl size=5976 sha256=40068cc0720887c60d3f90fd72b102acb9beec4abedeb585d434f5cc72b595a8\n",
      "  Stored in directory: C:\\Users\\andimu064127\\AppData\\Local\\pip\\Cache\\wheels\\7b\\2a\\35\\c0c3749c1a36d4f454ea22d8396e1b854b86340d63cbbb7949\n",
      "Successfully built apyori\n",
      "Installing collected packages: apyori\n",
      "Successfully installed apyori-1.1.1\n"
     ]
    }
   ],
   "source": [
    "! pip install apyori"
   ]
  },
  {
   "cell_type": "code",
   "execution_count": 8,
   "metadata": {},
   "outputs": [],
   "source": [
    "#Import the library\n",
    "\n",
    "import numpy as np\n",
    "import matplotlib.pyplot as plt\n",
    "import pandas as pd\n",
    "from apyori import apriori"
   ]
  },
  {
   "cell_type": "markdown",
   "metadata": {},
   "source": [
    "## Data Preprocessing"
   ]
  },
  {
   "cell_type": "code",
   "execution_count": 14,
   "metadata": {
    "scrolled": true
   },
   "outputs": [
    {
     "data": {
      "text/html": [
       "<div>\n",
       "<style scoped>\n",
       "    .dataframe tbody tr th:only-of-type {\n",
       "        vertical-align: middle;\n",
       "    }\n",
       "\n",
       "    .dataframe tbody tr th {\n",
       "        vertical-align: top;\n",
       "    }\n",
       "\n",
       "    .dataframe thead th {\n",
       "        text-align: right;\n",
       "    }\n",
       "</style>\n",
       "<table border=\"1\" class=\"dataframe\">\n",
       "  <thead>\n",
       "    <tr style=\"text-align: right;\">\n",
       "      <th></th>\n",
       "      <th>Name</th>\n",
       "      <th>Item 1</th>\n",
       "      <th>Item 2</th>\n",
       "      <th>Item 3</th>\n",
       "    </tr>\n",
       "  </thead>\n",
       "  <tbody>\n",
       "    <tr>\n",
       "      <td>19</td>\n",
       "      <td>xxnx</td>\n",
       "      <td>Soap</td>\n",
       "      <td>Bag</td>\n",
       "      <td>Guitar</td>\n",
       "    </tr>\n",
       "    <tr>\n",
       "      <td>20</td>\n",
       "      <td>bakul</td>\n",
       "      <td>Router</td>\n",
       "      <td>Bag</td>\n",
       "      <td>NaN</td>\n",
       "    </tr>\n",
       "    <tr>\n",
       "      <td>21</td>\n",
       "      <td>Agrawal Srikant</td>\n",
       "      <td>Watch</td>\n",
       "      <td>Racket</td>\n",
       "      <td>Soap</td>\n",
       "    </tr>\n",
       "    <tr>\n",
       "      <td>22</td>\n",
       "      <td>jul</td>\n",
       "      <td>Music Pad</td>\n",
       "      <td>Soap</td>\n",
       "      <td>Watch</td>\n",
       "    </tr>\n",
       "    <tr>\n",
       "      <td>23</td>\n",
       "      <td>Andi Isra</td>\n",
       "      <td>Mouse</td>\n",
       "      <td>Camera</td>\n",
       "      <td>Soap</td>\n",
       "    </tr>\n",
       "  </tbody>\n",
       "</table>\n",
       "</div>"
      ],
      "text/plain": [
       "               Name     Item 1  Item 2  Item 3\n",
       "19             xxnx       Soap     Bag  Guitar\n",
       "20            bakul     Router     Bag     NaN\n",
       "21  Agrawal Srikant      Watch  Racket    Soap\n",
       "22              jul  Music Pad    Soap   Watch\n",
       "23        Andi Isra      Mouse  Camera    Soap"
      ]
     },
     "execution_count": 14,
     "metadata": {},
     "output_type": "execute_result"
    }
   ],
   "source": [
    "#Load the dataset\n",
    "\n",
    "df = pd.read_csv('C:\\\\Users\\\\andimu064127\\\\Tugas\\\\MA 3\\\\Data\\\\market_gform.csv')\n",
    "df.tail()"
   ]
  },
  {
   "cell_type": "code",
   "execution_count": 15,
   "metadata": {},
   "outputs": [],
   "source": [
    "df.drop(['Name'],axis=1, inplace=True)"
   ]
  },
  {
   "cell_type": "markdown",
   "metadata": {},
   "source": [
    "**Kenapa?**\n",
    "\n",
    "Karena penggunaan kolom nama tidak diperlukan dalam analisis algoritma apriori, sehingga dapat kita pertimbangkan untuk dibuang."
   ]
  },
  {
   "cell_type": "code",
   "execution_count": 16,
   "metadata": {},
   "outputs": [
    {
     "data": {
      "text/html": [
       "<div>\n",
       "<style scoped>\n",
       "    .dataframe tbody tr th:only-of-type {\n",
       "        vertical-align: middle;\n",
       "    }\n",
       "\n",
       "    .dataframe tbody tr th {\n",
       "        vertical-align: top;\n",
       "    }\n",
       "\n",
       "    .dataframe thead th {\n",
       "        text-align: right;\n",
       "    }\n",
       "</style>\n",
       "<table border=\"1\" class=\"dataframe\">\n",
       "  <thead>\n",
       "    <tr style=\"text-align: right;\">\n",
       "      <th></th>\n",
       "      <th>Item 1</th>\n",
       "      <th>Item 2</th>\n",
       "      <th>Item 3</th>\n",
       "    </tr>\n",
       "  </thead>\n",
       "  <tbody>\n",
       "    <tr>\n",
       "      <td>19</td>\n",
       "      <td>Soap</td>\n",
       "      <td>Bag</td>\n",
       "      <td>Guitar</td>\n",
       "    </tr>\n",
       "    <tr>\n",
       "      <td>20</td>\n",
       "      <td>Router</td>\n",
       "      <td>Bag</td>\n",
       "      <td>NaN</td>\n",
       "    </tr>\n",
       "    <tr>\n",
       "      <td>21</td>\n",
       "      <td>Watch</td>\n",
       "      <td>Racket</td>\n",
       "      <td>Soap</td>\n",
       "    </tr>\n",
       "    <tr>\n",
       "      <td>22</td>\n",
       "      <td>Music Pad</td>\n",
       "      <td>Soap</td>\n",
       "      <td>Watch</td>\n",
       "    </tr>\n",
       "    <tr>\n",
       "      <td>23</td>\n",
       "      <td>Mouse</td>\n",
       "      <td>Camera</td>\n",
       "      <td>Soap</td>\n",
       "    </tr>\n",
       "  </tbody>\n",
       "</table>\n",
       "</div>"
      ],
      "text/plain": [
       "       Item 1  Item 2  Item 3\n",
       "19       Soap     Bag  Guitar\n",
       "20     Router     Bag     NaN\n",
       "21      Watch  Racket    Soap\n",
       "22  Music Pad    Soap   Watch\n",
       "23      Mouse  Camera    Soap"
      ]
     },
     "execution_count": 16,
     "metadata": {},
     "output_type": "execute_result"
    }
   ],
   "source": [
    "df.tail()"
   ]
  },
  {
   "cell_type": "code",
   "execution_count": 19,
   "metadata": {},
   "outputs": [
    {
     "name": "stdout",
     "output_type": "stream",
     "text": [
      "24\n"
     ]
    }
   ],
   "source": [
    "# See how many rows in the dataset\n",
    "\n",
    "recs = len(df)\n",
    "print(recs)"
   ]
  },
  {
   "cell_type": "code",
   "execution_count": 23,
   "metadata": {},
   "outputs": [],
   "source": [
    "lists = []\n",
    "for i in range(len(df)):\n",
    "    lists.append([str(df.values[i,j]) for j in range(0,3)])"
   ]
  },
  {
   "cell_type": "markdown",
   "metadata": {},
   "source": [
    "# Algoritma Apriori\n",
    "\n",
    "Memahami parameter dalam penggunaan algoritma apriori<br>\n",
    "- **`Support`**: Support is an indication of how frequently the itemset appears in the dataset.<br>\n",
    "- **`Confidence`**: Confidence is an indication of how often the rule has been found to be true.<br>\n",
    "- **`Lift`**: The ratio of the observed support to that expected if X and Y were independent.<br><br>\n",
    "\n",
    "So, we can define/assumption:\n",
    "- Batas support yang ditentukan adalah 5% atau 0.05 <br>\n",
    "- Minimum confidence sebesar 5% atau 0.05. <br>\n",
    "- Nilai lift yang diingingkan adalah 1.15<br>"
   ]
  },
  {
   "cell_type": "code",
   "execution_count": 52,
   "metadata": {},
   "outputs": [],
   "source": [
    "rules = apriori(lists, min_support=0.05, min_confidence=0.05, min_lift=1.15)\n",
    "assoc_results = list(rules)"
   ]
  },
  {
   "cell_type": "code",
   "execution_count": 53,
   "metadata": {},
   "outputs": [
    {
     "name": "stdout",
     "output_type": "stream",
     "text": [
      "9\n"
     ]
    }
   ],
   "source": [
    "print(len(assoc_results))"
   ]
  },
  {
   "cell_type": "code",
   "execution_count": 54,
   "metadata": {
    "scrolled": true
   },
   "outputs": [
    {
     "name": "stdout",
     "output_type": "stream",
     "text": [
      "RelationRecord(items=frozenset({'Bag', 'nan'}), support=0.08333333333333333, ordered_statistics=[OrderedStatistic(items_base=frozenset({'Bag'}), items_add=frozenset({'nan'}), confidence=0.6666666666666666, lift=3.1999999999999997), OrderedStatistic(items_base=frozenset({'nan'}), items_add=frozenset({'Bag'}), confidence=0.39999999999999997, lift=3.1999999999999997)])\n"
     ]
    }
   ],
   "source": [
    "print(assoc_results[0])"
   ]
  },
  {
   "cell_type": "code",
   "execution_count": 55,
   "metadata": {},
   "outputs": [],
   "source": [
    "results=[]\n",
    "for item in assoc_results:\n",
    "\n",
    "    pair = item[0] \n",
    "    items = [x for x in pair]\n",
    "    \n",
    "    barang1=str(items[0])\n",
    "    barang2=str(items[1])\n",
    "    support=str(item[1])[:7]\n",
    "    conf=str(item[2][0][2])[:7]\n",
    "    lift=str(item[2][0][3])[:7]\n",
    "    \n",
    "    rows=(barang1, barang2, support, conf, lift)\n",
    "    results.append(rows)\n",
    "    \n",
    "labels=['Barang 1', 'Barang 2','Support','Confidence','Lift' ]\n",
    "data_suggest=pd.DataFrame.from_records(results, columns=labels)"
   ]
  },
  {
   "cell_type": "code",
   "execution_count": 57,
   "metadata": {},
   "outputs": [
    {
     "data": {
      "text/html": [
       "<div>\n",
       "<style scoped>\n",
       "    .dataframe tbody tr th:only-of-type {\n",
       "        vertical-align: middle;\n",
       "    }\n",
       "\n",
       "    .dataframe tbody tr th {\n",
       "        vertical-align: top;\n",
       "    }\n",
       "\n",
       "    .dataframe thead th {\n",
       "        text-align: right;\n",
       "    }\n",
       "</style>\n",
       "<table border=\"1\" class=\"dataframe\">\n",
       "  <thead>\n",
       "    <tr style=\"text-align: right;\">\n",
       "      <th></th>\n",
       "      <th>Barang 1</th>\n",
       "      <th>Barang 2</th>\n",
       "      <th>Support</th>\n",
       "      <th>Confidence</th>\n",
       "      <th>Lift</th>\n",
       "    </tr>\n",
       "  </thead>\n",
       "  <tbody>\n",
       "    <tr>\n",
       "      <td>0</td>\n",
       "      <td>Bag</td>\n",
       "      <td>nan</td>\n",
       "      <td>0.08333</td>\n",
       "      <td>0.66666</td>\n",
       "      <td>3.19999</td>\n",
       "    </tr>\n",
       "    <tr>\n",
       "      <td>4</td>\n",
       "      <td>Watch</td>\n",
       "      <td>HP</td>\n",
       "      <td>0.16666</td>\n",
       "      <td>1.0</td>\n",
       "      <td>1.6</td>\n",
       "    </tr>\n",
       "    <tr>\n",
       "      <td>8</td>\n",
       "      <td>Watch</td>\n",
       "      <td>Camera</td>\n",
       "      <td>0.08333</td>\n",
       "      <td>1.0</td>\n",
       "      <td>1.6</td>\n",
       "    </tr>\n",
       "    <tr>\n",
       "      <td>5</td>\n",
       "      <td>Racket</td>\n",
       "      <td>Soap</td>\n",
       "      <td>0.08333</td>\n",
       "      <td>0.33333</td>\n",
       "      <td>1.59999</td>\n",
       "    </tr>\n",
       "    <tr>\n",
       "      <td>7</td>\n",
       "      <td>Camera</td>\n",
       "      <td>Guitar</td>\n",
       "      <td>0.08333</td>\n",
       "      <td>0.39999</td>\n",
       "      <td>1.59999</td>\n",
       "    </tr>\n",
       "    <tr>\n",
       "      <td>1</td>\n",
       "      <td>Camera</td>\n",
       "      <td>Mouse</td>\n",
       "      <td>0.08333</td>\n",
       "      <td>0.125</td>\n",
       "      <td>1.5</td>\n",
       "    </tr>\n",
       "    <tr>\n",
       "      <td>2</td>\n",
       "      <td>Guitar</td>\n",
       "      <td>Racket</td>\n",
       "      <td>0.125</td>\n",
       "      <td>0.375</td>\n",
       "      <td>1.5</td>\n",
       "    </tr>\n",
       "    <tr>\n",
       "      <td>6</td>\n",
       "      <td>Camera</td>\n",
       "      <td>Guitar</td>\n",
       "      <td>0.08333</td>\n",
       "      <td>0.39999</td>\n",
       "      <td>1.37142</td>\n",
       "    </tr>\n",
       "    <tr>\n",
       "      <td>3</td>\n",
       "      <td>Guitar</td>\n",
       "      <td>Soap</td>\n",
       "      <td>0.08333</td>\n",
       "      <td>0.25</td>\n",
       "      <td>1.2</td>\n",
       "    </tr>\n",
       "  </tbody>\n",
       "</table>\n",
       "</div>"
      ],
      "text/plain": [
       "  Barang 1 Barang 2  Support Confidence     Lift\n",
       "0      Bag      nan  0.08333    0.66666  3.19999\n",
       "4    Watch       HP  0.16666        1.0      1.6\n",
       "8    Watch   Camera  0.08333        1.0      1.6\n",
       "5   Racket     Soap  0.08333    0.33333  1.59999\n",
       "7   Camera   Guitar  0.08333    0.39999  1.59999\n",
       "1   Camera    Mouse  0.08333      0.125      1.5\n",
       "2   Guitar   Racket    0.125      0.375      1.5\n",
       "6   Camera   Guitar  0.08333    0.39999  1.37142\n",
       "3   Guitar     Soap  0.08333       0.25      1.2"
      ]
     },
     "execution_count": 57,
     "metadata": {},
     "output_type": "execute_result"
    }
   ],
   "source": [
    "data_suggest.sort_values(by='Lift', ascending=False)"
   ]
  },
  {
   "cell_type": "markdown",
   "metadata": {},
   "source": [
    "# Conclusion\n",
    "\n",
    "Terdapat 9 baris set list barang yang dihasilkan oleh Algoritma Apriori kita yang dimana parameternya sudah ditentukan sebelumnya. Parameter yang dibangkitkan dalam model ini adalah sebagai berikut:\n",
    "\n",
    "- Support: 0.05 atau 5% <br>\n",
    "- Confidence: 0.05 atau 5% <br>\n",
    "- Lift: 1.15 <br><br>\n",
    "\n",
    "**Interpretation:**\n",
    "\n",
    "* List yang nilai confidencenya adalah 1 berarti bahwa setiap ada transaksi dari barang 1 maka akan diikuti barang 2 dengan persentasi 100%.\n",
    "\n",
    "* Nilai Lift 1.6 berarti bahwa HP 1.6 kali lipat akan dibeli oleh customer yang membeli Watch.\n",
    "\n",
    "* Raket dan gitar memiliki jumlah transaksi yang cukup banyak namun dengan kenyataan nilai confidence yang kecil, kemungkinan pembeli raket akan membeli gitar juga tidak seberapa."
   ]
  },
  {
   "cell_type": "code",
   "execution_count": null,
   "metadata": {},
   "outputs": [],
   "source": []
  }
 ],
 "metadata": {
  "kernelspec": {
   "display_name": "Python 3",
   "language": "python",
   "name": "python3"
  },
  "language_info": {
   "codemirror_mode": {
    "name": "ipython",
    "version": 3
   },
   "file_extension": ".py",
   "mimetype": "text/x-python",
   "name": "python",
   "nbconvert_exporter": "python",
   "pygments_lexer": "ipython3",
   "version": "3.6.7"
  }
 },
 "nbformat": 4,
 "nbformat_minor": 2
}
