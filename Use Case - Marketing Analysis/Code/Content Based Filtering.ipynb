{
 "cells": [
  {
   "cell_type": "markdown",
   "metadata": {},
   "source": [
    "### Content Based Filtering\n",
    "- Content Based Filtering (CBF) hanya membutuhkan single user/input, tidak seperti Collaborative Filtering yang membutuhkan banyak user/inputan untuk dibandingkan.\n",
    "- Cara kerja algoritma CBF adalah mencari sesuatu informasi yang dapat digali lalu dihubungkan dengan nilai kemiripannya dengan data yang ada (*similarity score*), dalam kasus ini adalah nama hotel yang sedang ini dituju dan rekomendasi hotel yang mirip dengan pencarian kita. "
   ]
  },
  {
   "cell_type": "markdown",
   "metadata": {},
   "source": [
    "### Import Dataset"
   ]
  },
  {
   "cell_type": "code",
   "execution_count": 73,
   "metadata": {},
   "outputs": [],
   "source": [
    "import pandas as pd\n",
    "import numpy as np\n",
    "from nltk.corpus import stopwords\n",
    "from sklearn.metrics.pairwise import linear_kernel\n",
    "from sklearn.feature_extraction.text import CountVectorizer\n",
    "from sklearn.feature_extraction.text import TfidfVectorizer\n",
    "from sklearn.decomposition import LatentDirichletAllocation\n",
    "import re\n",
    "import random"
   ]
  },
  {
   "cell_type": "code",
   "execution_count": 74,
   "metadata": {},
   "outputs": [],
   "source": [
    "hotel = pd.read_csv('C:\\\\Users\\\\andimu064127\\\\Tugas\\\\Use Case - Marketing Analysis\\\\Dataset\\\\hotels.csv', encoding=\"latin-1\")"
   ]
  },
  {
   "cell_type": "code",
   "execution_count": 75,
   "metadata": {},
   "outputs": [
    {
     "data": {
      "text/html": [
       "<div>\n",
       "<style scoped>\n",
       "    .dataframe tbody tr th:only-of-type {\n",
       "        vertical-align: middle;\n",
       "    }\n",
       "\n",
       "    .dataframe tbody tr th {\n",
       "        vertical-align: top;\n",
       "    }\n",
       "\n",
       "    .dataframe thead th {\n",
       "        text-align: right;\n",
       "    }\n",
       "</style>\n",
       "<table border=\"1\" class=\"dataframe\">\n",
       "  <thead>\n",
       "    <tr style=\"text-align: right;\">\n",
       "      <th></th>\n",
       "      <th>name</th>\n",
       "      <th>address</th>\n",
       "      <th>desc</th>\n",
       "    </tr>\n",
       "  </thead>\n",
       "  <tbody>\n",
       "    <tr>\n",
       "      <td>0</td>\n",
       "      <td>Hilton Garden Seattle Downtown</td>\n",
       "      <td>1821 Boren Avenue, Seattle Washington 98101 USA</td>\n",
       "      <td>Located on the southern tip of Lake Union, the...</td>\n",
       "    </tr>\n",
       "    <tr>\n",
       "      <td>1</td>\n",
       "      <td>Sheraton Grand Seattle</td>\n",
       "      <td>1400 6th Avenue, Seattle, Washington 98101 USA</td>\n",
       "      <td>Located in the city's vibrant core, the Sherat...</td>\n",
       "    </tr>\n",
       "    <tr>\n",
       "      <td>2</td>\n",
       "      <td>Crowne Plaza Seattle Downtown</td>\n",
       "      <td>1113 6th Ave, Seattle, WA 98101</td>\n",
       "      <td>Located in the heart of downtown Seattle, the ...</td>\n",
       "    </tr>\n",
       "    <tr>\n",
       "      <td>3</td>\n",
       "      <td>Kimpton Hotel Monaco Seattle</td>\n",
       "      <td>1101 4th Ave, Seattle, WA98101</td>\n",
       "      <td>What?s near our hotel downtown Seattle locatio...</td>\n",
       "    </tr>\n",
       "    <tr>\n",
       "      <td>4</td>\n",
       "      <td>The Westin Seattle</td>\n",
       "      <td>1900 5th Avenue,?Seattle,?Washington?98101?USA</td>\n",
       "      <td>Situated amid incredible shopping and iconic a...</td>\n",
       "    </tr>\n",
       "  </tbody>\n",
       "</table>\n",
       "</div>"
      ],
      "text/plain": [
       "                             name  \\\n",
       "0  Hilton Garden Seattle Downtown   \n",
       "1          Sheraton Grand Seattle   \n",
       "2   Crowne Plaza Seattle Downtown   \n",
       "3   Kimpton Hotel Monaco Seattle    \n",
       "4              The Westin Seattle   \n",
       "\n",
       "                                           address  \\\n",
       "0  1821 Boren Avenue, Seattle Washington 98101 USA   \n",
       "1   1400 6th Avenue, Seattle, Washington 98101 USA   \n",
       "2                  1113 6th Ave, Seattle, WA 98101   \n",
       "3                   1101 4th Ave, Seattle, WA98101   \n",
       "4   1900 5th Avenue,?Seattle,?Washington?98101?USA   \n",
       "\n",
       "                                                desc  \n",
       "0  Located on the southern tip of Lake Union, the...  \n",
       "1  Located in the city's vibrant core, the Sherat...  \n",
       "2  Located in the heart of downtown Seattle, the ...  \n",
       "3  What?s near our hotel downtown Seattle locatio...  \n",
       "4  Situated amid incredible shopping and iconic a...  "
      ]
     },
     "execution_count": 75,
     "metadata": {},
     "output_type": "execute_result"
    }
   ],
   "source": [
    "hotel.head()"
   ]
  },
  {
   "cell_type": "code",
   "execution_count": 76,
   "metadata": {},
   "outputs": [
    {
     "name": "stdout",
     "output_type": "stream",
     "text": [
      "Pada data, kita memiliki 152 hotels yang terdata dan tercatat\n"
     ]
    }
   ],
   "source": [
    "print('Pada data, kita memiliki', len(hotel), 'hotels yang terdata dan tercatat')"
   ]
  },
  {
   "cell_type": "code",
   "execution_count": 77,
   "metadata": {},
   "outputs": [],
   "source": [
    "def desc(index):\n",
    "    example = df[df.index == index][['desc', 'name']].values[0]\n",
    "    if len(example) > 0:\n",
    "        print('Deskripsi Hotel:\\n',example[0])\n",
    "        print('\\nNama Hotel:\\n',example[1])"
   ]
  },
  {
   "cell_type": "code",
   "execution_count": 78,
   "metadata": {},
   "outputs": [
    {
     "name": "stdout",
     "output_type": "stream",
     "text": [
      "Deskripsi Hotel:\n",
      " Located in the heart of downtown Seattle, the award-winning \r\n",
      "Crowne Plaza Hotel Seattle ? Downtown offers an exceptional blend of service, style and comfort. You?ll notice Cool, Comfortable and Unconventional touches that set us apart as soon as you step inside. Marvel at stunning views of the city lights while relaxing in our new Sleep Advantage? Beds. Enjoy complimentary wireless Internet throughout the hotel and amenities to help you relax like our Temple Spa? Sleep Tight Amenity kits featuring lavender spray and lotions to help you rejuvenate and unwind. Enjoy an invigorating workout at our 24-hour fitness center, get dining suggestions from our expert concierge or savor sumptuous cuisine at our Regatta Bar & Grille restaurant where you can enjoy Happy Hour in our lounge daily from 4pm - 7pm and monthly drink specials. Come and experience all that The Emerald City has to offer with us!\n",
      "\n",
      "Nama Hotel:\n",
      " Crowne Plaza Seattle Downtown\n"
     ]
    }
   ],
   "source": [
    "desc(2)"
   ]
  },
  {
   "cell_type": "markdown",
   "metadata": {},
   "source": [
    "### Data Description dan Distribution"
   ]
  },
  {
   "cell_type": "code",
   "execution_count": 79,
   "metadata": {},
   "outputs": [],
   "source": [
    "hotel['word_count'] = hotel['desc'].apply(lambda x: len(str(x).split()))"
   ]
  },
  {
   "cell_type": "code",
   "execution_count": 80,
   "metadata": {},
   "outputs": [
    {
     "name": "stdout",
     "output_type": "stream",
     "text": [
      "Jumlah Deskripsi: 152 \n",
      "Rata-Rata Kata Terhitung 156.46052631578948 \n",
      "Minimum Kata Terhitung 16 \n",
      "Maximum Kata Terhitung 492\n"
     ]
    }
   ],
   "source": [
    "desc_lengths = list(hotel['word_count'])\n",
    "\n",
    "print(\"Jumlah Deskripsi:\",len(desc_lengths),\n",
    "      \"\\nRata-Rata Kata Terhitung\", np.average(desc_lengths),\n",
    "      \"\\nMinimum Kata Terhitung\", min(desc_lengths),\n",
    "      \"\\nMaximum Kata Terhitung\", max(desc_lengths))"
   ]
  },
  {
   "cell_type": "code",
   "execution_count": 81,
   "metadata": {},
   "outputs": [],
   "source": [
    "import warnings\n",
    "warnings.filterwarnings(\"ignore\")\n",
    "\n",
    "format_spacing = re.compile('[/(){}\\[\\]\\|@,;]')\n",
    "bad_simbol = re.compile('[^0-9a-z #+_]')\n",
    "stop_words = set(stopwords.words('english'))\n",
    "\n",
    "def clean_text(text):\n",
    "    \"\"\"\n",
    "        text: a string\n",
    "        \n",
    "        return: modified initial string\n",
    "    \"\"\"\n",
    "    text = text.lower() # lowercase text\n",
    "    text = format_spacing.sub(' ', text) # replace format_spacing symbols by space in text. substitute the matched string in format_spacing with space.\n",
    "    text = bad_simbol.sub('', text) # remove symbols which are in bad_simbol from text. substitute the matched string in bad_simbol with nothing. \n",
    "    text = ' '.join(word for word in text.split() if word not in stop_words) # remove stopwors from text\n",
    "    return text\n",
    "    \n",
    "hotel['desc_clean'] = hotel['desc'].apply(clean_text)"
   ]
  },
  {
   "cell_type": "code",
   "execution_count": 82,
   "metadata": {},
   "outputs": [
    {
     "name": "stdout",
     "output_type": "stream",
     "text": [
      "Deskripsi Hotel:\n",
      " located heart downtown seattle awardwinning crowne plaza hotel seattle downtown offers exceptional blend service style comfort youll notice cool comfortable unconventional touches set us apart soon step inside marvel stunning views city lights relaxing new sleep advantage beds enjoy complimentary wireless internet throughout hotel amenities help relax like temple spa sleep tight amenity kits featuring lavender spray lotions help rejuvenate unwind enjoy invigorating workout 24hour fitness center get dining suggestions expert concierge savor sumptuous cuisine regatta bar grille restaurant enjoy happy hour lounge daily 4pm 7pm monthly drink specials come experience emerald city offer us\n",
      "\n",
      "Nama Hotel:\n",
      " Crowne Plaza Seattle Downtown\n"
     ]
    }
   ],
   "source": [
    "def print_description(index):\n",
    "    example = hotel[hotel.index == index][['desc_clean', 'name']].values[0]\n",
    "    if len(example) > 0:\n",
    "        print('Deskripsi Hotel:\\n',example[0])\n",
    "        print('\\nNama Hotel:\\n',example[1])\n",
    "print_description(2)"
   ]
  },
  {
   "cell_type": "markdown",
   "metadata": {},
   "source": [
    "### Preprocessing Hotel Desc, Vectorizing, TF-IDF, Cosine Similarity, and Indexing"
   ]
  },
  {
   "cell_type": "code",
   "execution_count": 83,
   "metadata": {},
   "outputs": [],
   "source": [
    "hotel.set_index('name', inplace = True)"
   ]
  },
  {
   "cell_type": "code",
   "execution_count": 84,
   "metadata": {},
   "outputs": [],
   "source": [
    "tf = TfidfVectorizer(analyzer='word', ngram_range=(1, 3), min_df=0, stop_words='english')\n",
    "tfidf_matrix = tf.fit_transform(df['desc_clean'])\n",
    "cosine_similarities = linear_kernel(tfidf_matrix, tfidf_matrix)"
   ]
  },
  {
   "cell_type": "code",
   "execution_count": 85,
   "metadata": {},
   "outputs": [],
   "source": [
    "indices = pd.Series(hotel.index)"
   ]
  },
  {
   "cell_type": "code",
   "execution_count": 90,
   "metadata": {},
   "outputs": [
    {
     "data": {
      "text/plain": [
       "0                        Hilton Garden Seattle Downtown\n",
       "1                                Sheraton Grand Seattle\n",
       "2                         Crowne Plaza Seattle Downtown\n",
       "3                         Kimpton Hotel Monaco Seattle \n",
       "4                                    The Westin Seattle\n",
       "5                           The Paramount Hotel Seattle\n",
       "6                                        Hilton Seattle\n",
       "7                                         Motif Seattle\n",
       "8                                       Warwick Seattle\n",
       "9                            Four Seasons Hotel Seattle\n",
       "10                                            W Seattle\n",
       "11                                   Gand Hyatt Seattle\n",
       "12                                 Kimpton Alexis Hotel\n",
       "13                                            Hotel Max\n",
       "14                                    Ace Hotel Seattle\n",
       "15                          Seattle Marriott Waterfront\n",
       "16                          The Edgewater Hotel Seattle\n",
       "17                   SpringHill Suites Seattle?Downtown\n",
       "18                               Fairmont Olympic Hotel\n",
       "19              La Quinta Inn & Suites Seattle Downtown\n",
       "20    Embassy Suites by Hilton Seattle Downtown Pion...\n",
       "21                                  Pan Pacific Seattle\n",
       "22                        Kimpton Hotel Vintage Seattle\n",
       "23                                  Hyatt Place Seattle\n",
       "24                                  Hyatt House Seattle\n",
       "Name: name, dtype: object"
      ]
     },
     "execution_count": 90,
     "metadata": {},
     "output_type": "execute_result"
    }
   ],
   "source": [
    "indices[:25]"
   ]
  },
  {
   "cell_type": "markdown",
   "metadata": {},
   "source": [
    "### Recommendation"
   ]
  },
  {
   "cell_type": "code",
   "execution_count": 87,
   "metadata": {},
   "outputs": [],
   "source": [
    "def rekomendasi(name, cosine_similarities = cosine_similarities):\n",
    "    \n",
    "    rekomendasi_hotel = []\n",
    "    \n",
    "    # gettin the index of the hotel that matches the name\n",
    "    idx = indices[indices == name].index[0]\n",
    "\n",
    "    # creating a Series with the similarity scores in descending order\n",
    "    score_series = pd.Series(cosine_similarities[idx]).sort_values(ascending = False)\n",
    "\n",
    "    # getting the indexes of the 10 most similar hotels except itself\n",
    "    top_5_indexes = list(score_series.iloc[1:6].index)\n",
    "    \n",
    "    # populating the list with the names of the top 10 matching hotels\n",
    "    for i in top_5_indexes:\n",
    "        rekomendasi_hotel.append(list(hotel.index)[i])\n",
    "        \n",
    "    return rekomendasi_hotel"
   ]
  },
  {
   "cell_type": "code",
   "execution_count": 88,
   "metadata": {},
   "outputs": [
    {
     "data": {
      "text/plain": [
       "['Hotel Theodore',\n",
       " 'Stay Alfred on 1st Avenue',\n",
       " 'Residence Inn by Marriott Seattle Downtown/Convention Center',\n",
       " 'Sheraton Grand Seattle',\n",
       " 'The Westin Seattle']"
      ]
     },
     "execution_count": 88,
     "metadata": {},
     "output_type": "execute_result"
    }
   ],
   "source": [
    "rekomendasi('Hotel Max')"
   ]
  },
  {
   "cell_type": "code",
   "execution_count": 89,
   "metadata": {},
   "outputs": [
    {
     "data": {
      "text/plain": [
       "['The Edgewater Hotel Seattle',\n",
       " 'Hyatt Place Seattle',\n",
       " 'Holiday Inn Seattle Downtown',\n",
       " 'Holiday Inn Express & Suites North Seattle - Shoreline',\n",
       " 'The State Hotel']"
      ]
     },
     "execution_count": 89,
     "metadata": {},
     "output_type": "execute_result"
    }
   ],
   "source": [
    "rekomendasi(\"Warwick Seattle\")"
   ]
  },
  {
   "cell_type": "markdown",
   "metadata": {},
   "source": [
    "### Interpretasi dan Kesimpulan"
   ]
  },
  {
   "cell_type": "markdown",
   "metadata": {},
   "source": [
    "Berdasarkan hasil pencarian kita terhadap satu nama hotel. Sebagai contoh kita gunakan nama hotelnya adalah **`Hotel Max`**, maka akan muncul nama-nama hotel yang memiliki kemiripan dengan **`Hotel Max`** tadi berdasarkan deskripsi hotelnya yang sudah dibagi-bagi dan diberi bobot dengan metode pemisahan text, vectorizer, dan tf-idf yang benar-benar membantu dalam menyaring kemiripan pada input pencarian.\n",
    "\n",
    "Begitu pula dengan **`Warwick Seattle`**, menampilkan 5 nama hotel yang memiliki kemiripan dengan inputan pencarian user. Inilah yang dimaksud dengan Content Based Filtering."
   ]
  }
 ],
 "metadata": {
  "kernelspec": {
   "display_name": "Python 3",
   "language": "python",
   "name": "python3"
  },
  "language_info": {
   "codemirror_mode": {
    "name": "ipython",
    "version": 3
   },
   "file_extension": ".py",
   "mimetype": "text/x-python",
   "name": "python",
   "nbconvert_exporter": "python",
   "pygments_lexer": "ipython3",
   "version": "3.6.7"
  }
 },
 "nbformat": 4,
 "nbformat_minor": 2
}
