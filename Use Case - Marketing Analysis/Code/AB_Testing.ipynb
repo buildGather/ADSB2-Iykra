{
  "nbformat": 4,
  "nbformat_minor": 0,
  "metadata": {
    "colab": {
      "name": "AB Testing.ipynb",
      "provenance": []
    },
    "kernelspec": {
      "name": "python2",
      "display_name": "Python 2"
    }
  },
  "cells": [
    {
      "cell_type": "code",
      "metadata": {
        "id": "EYUiIrzDZ94f",
        "colab_type": "code",
        "colab": {
          "base_uri": "https://localhost:8080/",
          "height": 105
        },
        "outputId": "68b3b37e-4e01-4c20-968b-40cba7597fa1"
      },
      "source": [
        "! pip install brewer2mpl"
      ],
      "execution_count": 2,
      "outputs": [
        {
          "output_type": "stream",
          "text": [
            "Collecting brewer2mpl\n",
            "  Downloading https://files.pythonhosted.org/packages/84/57/00c45a199719e617db0875181134fcb3aeef701deae346547ac722eaaf5e/brewer2mpl-1.4.1-py2.py3-none-any.whl\n",
            "Installing collected packages: brewer2mpl\n",
            "Successfully installed brewer2mpl-1.4.1\n"
          ],
          "name": "stdout"
        }
      ]
    },
    {
      "cell_type": "code",
      "metadata": {
        "id": "CkhtwQLEZqgz",
        "colab_type": "code",
        "colab": {}
      },
      "source": [
        "import numpy as np\n",
        "import pandas as pd\n",
        "import seaborn as sns\n",
        "from pylab import *\n",
        "from IPython.display import Image\n",
        "import matplotlib.ticker as mtick\n",
        "\n",
        "import scipy.stats as stats\n",
        "import statsmodels.stats.weightstats as wstats\n",
        "from collections import OrderedDict\n",
        "\n",
        "import brewer2mpl\n",
        "brewer_set2 = brewer2mpl.get_map('Set2', 'qualitative', 8).mpl_colors\n",
        "\n",
        "from __future__ import print_function\n",
        "from __future__ import division\n",
        "%matplotlib inline"
      ],
      "execution_count": 0,
      "outputs": []
    },
    {
      "cell_type": "code",
      "metadata": {
        "id": "YZhGr8F5Z0Uq",
        "colab_type": "code",
        "colab": {
          "base_uri": "https://localhost:8080/",
          "height": 51
        },
        "outputId": "4cef4c50-17ab-4333-9347-17ec51fd97af"
      },
      "source": [
        "# Let's generate some fake data\n",
        "conversion_a = 0.015 # higher conversion rate in group A\n",
        "conversion_b = 0.013 # higher conversion rate in group B\n",
        "installs_a = 23000 # cohort sizes are equal, for simplicity\n",
        "installs_b = 23000\n",
        "payers_a = int(installs_a * conversion_a)\n",
        "payers_b = int(installs_b * conversion_b)\n",
        "print('payers A', payers_a)\n",
        "print('payers B', payers_b)"
      ],
      "execution_count": 8,
      "outputs": [
        {
          "output_type": "stream",
          "text": [
            "payers A 345\n",
            "payers B 299\n"
          ],
          "name": "stdout"
        }
      ]
    },
    {
      "cell_type": "code",
      "metadata": {
        "id": "TM5BOXDzaIgm",
        "colab_type": "code",
        "colab": {
          "base_uri": "https://localhost:8080/",
          "height": 51
        },
        "outputId": "370becd0-5f49-4861-ed76-65263a750d3d"
      },
      "source": [
        "# Check that the difference in Conversion Rates is statistically significant for Alpha=0.05\n",
        "\n",
        "from statsmodels.stats.proportion import proportions_ztest\n",
        "count = np.array([payers_a,payers_b])\n",
        "nobs = np.array([installs_a, installs_b])\n",
        "z,p = proportions_ztest(count, nobs, value=0, alternative='two-sided')\n",
        "print(' z-stat = {z} \\n p-value = {p}'.format(z=z,p=p))"
      ],
      "execution_count": 5,
      "outputs": [
        {
          "output_type": "stream",
          "text": [
            " z-stat = 2.08484201145 \n",
            " p-value = 0.0370836438406\n"
          ],
          "name": "stdout"
        }
      ]
    },
    {
      "cell_type": "code",
      "metadata": {
        "id": "6sqaI4KXaMEe",
        "colab_type": "code",
        "colab": {
          "base_uri": "https://localhost:8080/",
          "height": 283
        },
        "outputId": "cfbdff7a-aa8d-4af6-afb5-854cabe1b60d"
      },
      "source": [
        "fig, ax = plt.subplots(figsize=(8,4))\n",
        "\n",
        "x = [0,1]\n",
        "y = [payers_a/installs_a, payers_b/installs_b]\n",
        "ax.bar(x, y, align='center', width=.8)\n",
        "ax.set_xticks(x)\n",
        "ax.set_xticklabels(['$0.99', '$1.99'])\n",
        "xlim(-.5,1.5)\n",
        "\n",
        "for xx, yy in zip(x,y):\n",
        "    ax.text(xx, yy*.7, '%0.2f%%'%(100*yy),ha='center', va='bottom', fontdict={'size':18,'weight':'bold','color':(0.9,.9,.9)})\n",
        "ax.yaxis.set_major_formatter(FuncFormatter(lambda x, pos=0: '%0.0f%%'%(100.0*x)))\n",
        "title('Conversion Rate', fontdict={'size':16})\n",
        "pass\n",
        "# fig.savefig('04.01 conversion rate.png', bbox_inches='tight', pad_inches=0.2 ,dpi=200)"
      ],
      "execution_count": 6,
      "outputs": [
        {
          "output_type": "display_data",
          "data": {
            "image/png": "[encoded data removed]",
            "text/plain": [
              "<Figure size 576x288 with 1 Axes>"
            ]
          },
          "metadata": {
            "tags": []
          }
        }
      ]
    },
    {
      "cell_type": "code",
      "metadata": {
        "id": "GUTiagyoaOm4",
        "colab_type": "code",
        "colab": {}
      },
      "source": [
        ""
      ],
      "execution_count": 0,
      "outputs": []
    }
  ]
}